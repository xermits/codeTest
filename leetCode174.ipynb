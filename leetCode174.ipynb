{
 "cells": [
  {
   "cell_type": "code",
   "execution_count": 3,
   "metadata": {},
   "outputs": [],
   "source": [
    "from typing import List \n",
    "\n",
    "class Solution:\n",
    "    def calculateMinimumHP(self, dungeon: List[List[int]]) -> int:\n",
    "        self.dungeon = dungeon\n",
    "        self.rows = len(dungeon)\n",
    "        self.cols = len(dungeon[0])\n",
    "        \n",
    "        self.memo = [[-1] * self.cols for x in range(self.rows)]\n",
    "        \n",
    "        return self.solve(0,0)\n",
    "    \n",
    "    def solve(self, r : int, c : int) -> int:\n",
    "        if self.memo[r][c] == -1:\n",
    "            val = self.dungeon[r][c]\n",
    "            \n",
    "            minHP = 40000001\n",
    "            \n",
    "            if r < self.rows - 1:\n",
    "                minHP = min(minHP, self.solve(r + 1, c) - val)\n",
    "            if c < self.cols - 1:\n",
    "                minHP = min(minHP, self.solve(r, c + 1) - val)\n",
    "                \n",
    "            if minHP == 40000001:\n",
    "                minHP = 1 - val\n",
    "            \n",
    "            if minHP <= 0:\n",
    "                minHP = 1\n",
    "            \n",
    "            self.memo[r][c] = minHP\n",
    "        return self.memo[r][c]"
   ]
  },
  {
   "cell_type": "code",
   "execution_count": 4,
   "metadata": {},
   "outputs": [],
   "source": [
    "dungeon = [[-2,-3,3],[-5,-10,1],[10,30,-5]]"
   ]
  },
  {
   "cell_type": "code",
   "execution_count": 5,
   "metadata": {},
   "outputs": [
    {
     "name": "stdout",
     "output_type": "stream",
     "text": [
      "7\n"
     ]
    }
   ],
   "source": [
    "a = Solution()\n",
    "print(a.calculateMinimumHP(dungeon))"
   ]
  },
  {
   "cell_type": "code",
   "execution_count": null,
   "metadata": {},
   "outputs": [],
   "source": []
  }
 ],
 "metadata": {
  "interpreter": {
   "hash": "22800efcd4c49881911a0b2d8a79797207328a6a642f3a84c2d705a7929860d9"
  },
  "kernelspec": {
   "display_name": "Python 3.7.8 64-bit",
   "language": "python",
   "name": "python3"
  },
  "language_info": {
   "codemirror_mode": {
    "name": "ipython",
    "version": 3
   },
   "file_extension": ".py",
   "mimetype": "text/x-python",
   "name": "python",
   "nbconvert_exporter": "python",
   "pygments_lexer": "ipython3",
   "version": "3.6.5"
  },
  "orig_nbformat": 4
 },
 "nbformat": 4,
 "nbformat_minor": 2
}
