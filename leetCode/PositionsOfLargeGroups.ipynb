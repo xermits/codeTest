{
 "cells": [
  {
   "cell_type": "code",
   "execution_count": 55,
   "metadata": {},
   "outputs": [],
   "source": [
    "from typing import List\n",
    "#https://leetcode.com/problems/positions-of-large-groups/\n",
    "class Solution:\n",
    "    def largeGroupPositions(self, s: str) -> List[List[int]]:\n",
    "        returnData = []\n",
    "        \n",
    "        start = 0\n",
    "        for i in range(1, len(s)):            \n",
    "            if s[start] != s[i]:                \n",
    "                if (i - start) > 2:                \n",
    "                    returnData.append([start, i-1])\n",
    "                    #print(str(start) + \"/\" + str(i - start))\n",
    "                start = i\n",
    "        if len(s) - start > 2:\n",
    "            returnData.append([start, len(s)-1])\n",
    "        return returnData"
   ]
  },
  {
   "cell_type": "code",
   "execution_count": 56,
   "metadata": {},
   "outputs": [],
   "source": [
    "a = Solution()"
   ]
  },
  {
   "cell_type": "code",
   "execution_count": 57,
   "metadata": {},
   "outputs": [
    {
     "name": "stdout",
     "output_type": "stream",
     "text": [
      "[[0, 2]]\n"
     ]
    }
   ],
   "source": [
    "print(a.largeGroupPositions(\"aaa\"))"
   ]
  },
  {
   "cell_type": "code",
   "execution_count": null,
   "metadata": {},
   "outputs": [],
   "source": []
  }
 ],
 "metadata": {
  "kernelspec": {
   "display_name": "Python 3",
   "language": "python",
   "name": "python3"
  },
  "language_info": {
   "codemirror_mode": {
    "name": "ipython",
    "version": 3
   },
   "file_extension": ".py",
   "mimetype": "text/x-python",
   "name": "python",
   "nbconvert_exporter": "python",
   "pygments_lexer": "ipython3",
   "version": "3.6.5"
  }
 },
 "nbformat": 4,
 "nbformat_minor": 2
}
